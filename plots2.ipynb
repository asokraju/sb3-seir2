{
 "cells": [
  {
   "cell_type": "code",
   "execution_count": 1,
   "source": [
    "import numpy as np\r\n",
    "import os\r\n",
    "import matplotlib.pyplot as plt\r\n",
    "import seaborn as sns\r\n",
    "import pandas as pd\r\n",
    "import gym\r\n",
    "# from stable_baselines3.common.callbacks import BaseCallback\r\n",
    "# from stable_baselines3.common.results_plotter import load_results, ts2xy, plot_results\r\n",
    "# from stable_baselines3.common.monitor import Monitor\r\n",
    "# from stable_baselines3 import PPO, A2C, DQN\r\n",
    "# from sklearn.metrics import confusion_matrix"
   ],
   "outputs": [],
   "metadata": {}
  },
  {
   "cell_type": "code",
   "execution_count": 2,
   "source": [
    "def discount_reward(rewards, GAMMA=0.99):\r\n",
    "    reward_sum = 0\r\n",
    "    discounted_rewards = []\r\n",
    "    for reward in rewards[::-1]:  # reverse buffer r\r\n",
    "        reward_sum = reward + GAMMA * reward_sum\r\n",
    "        discounted_rewards.append(reward_sum)\r\n",
    "    discounted_rewards.reverse()\r\n",
    "    # discounted_rewards = np.array(discounted_rewards)\r\n",
    "    # len = discounted_rewards.shape[0]\r\n",
    "    return discounted_rewards"
   ],
   "outputs": [],
   "metadata": {}
  },
  {
   "cell_type": "code",
   "execution_count": 3,
   "source": [
    "def discounted_cost(x, gamma=0.99):\r\n",
    "    dis_cost = 0\r\n",
    "    for i,  d in enumerate(x[::-1]):\r\n",
    "        dis_cost += (gamma**i) * d\r\n",
    "    return dis_cost"
   ],
   "outputs": [],
   "metadata": {}
  },
  {
   "cell_type": "code",
   "execution_count": 10,
   "source": [
    "def plot_path(path):\r\n",
    "    idx = path.find(\"mhc=\")\r\n",
    "    mhc = float(path_0[idx+4:idx+7])\r\n",
    "    idx = path.find(\"hbr=\")\r\n",
    "    hbr = float(path[idx+4:idx+9])\r\n",
    "    idx = path.find(\"hcs=\")\r\n",
    "    hcs = float(path[idx+4:idx+9])\r\n",
    "    idx = path.find(\"hcs=\")\r\n",
    "    scenario = path[idx-2:idx-1]\r\n",
    "    # print(mhc, hbr, hcs, scenario)\r\n",
    "    Scenarios = [ 'BaseLine', 'Senario_1', 'Senario_2']\r\n",
    "    states = ['Susceptible', 'Exposed', 'Infected', 'Recovered']\r\n",
    "    a_map = {0:'LockDown', 1:'Social Distancing', 2:'Open'}\r\n",
    "    cols = []\r\n",
    "    df_0 = pd.read_csv(path+ \"//sar.csv\",  index_col=0, infer_datetime_format=True)\r\n",
    "    # print(df_0.iloc[0])\r\n",
    "    df_0.index = pd.to_datetime(df_0.index)\r\n",
    "    eco_costs    = np.array([1., 0.2, 0.0], dtype=float)\r\n",
    "    df_0['EconomicCost'] = df_0['actions'].map(lambda x: eco_costs[x])*7.\r\n",
    "    def Bed_cost(x):\r\n",
    "        avail_hospital_beds = 0.005*1e5\r\n",
    "        return 0. if x < avail_hospital_beds else mhc\r\n",
    "    df_0['bedcost'] = df_0['Infected'].map(lambda x: Bed_cost(x))\r\n",
    "    df_0.head()\r\n",
    "    Susceptible = df_0['Susceptible'].values\r\n",
    "    dt           = 5/(24*60)\r\n",
    "    Ts           = 7\r\n",
    "    time_steps   = int((Ts) / dt)\r\n",
    "    def ds_cost(Susceptible):\r\n",
    "        ds = []\r\n",
    "        l            = np.shape(Susceptible)[0]\r\n",
    "        weakly_sus = Susceptible[::time_steps]\r\n",
    "        # print(len(weakly_sus))\r\n",
    "        for i in range(24):\r\n",
    "            for _ in range(time_steps):\r\n",
    "                ds.append(weakly_sus[i]-weakly_sus[i+1])\r\n",
    "        for _ in range(time_steps):\r\n",
    "            ds.append(weakly_sus[i]-weakly_sus[i+1])\r\n",
    "        return ds\r\n",
    "    df_0['Ds_cost'] = np.array(ds_cost(Susceptible))/hcs\r\n",
    "    df_0['PublicHealthCost'] = df_0['bedcost'] + df_0['Ds_cost']\r\n",
    "    df_0['TotalCost'] = (1-0.5)*df_0['PublicHealthCost'] + (0.5)*df_0['EconomicCost']\r\n",
    "    TotalCost = df_0['TotalCost'].values\r\n",
    "    TotalWeeklyCosts = TotalCost[::time_steps]\r\n",
    "    TotalWeeklyCumulativeCosts = discount_reward(TotalWeeklyCosts, GAMMA=0.99)\r\n",
    "    TotalDialyCumulativeCosts = []\r\n",
    "    for _ in TotalWeeklyCumulativeCosts:\r\n",
    "        for t in range(time_steps):\r\n",
    "            TotalDialyCumulativeCosts.append(_)\r\n",
    "    df_0['CumulativeCost'] = TotalDialyCumulativeCosts\r\n",
    "    index = pd.date_range(\"2020-05-15 00:00:00\", \"2020-11-05 23:55:00\", freq=\"5min\")\r\n",
    "    main_title = \"weight = \" + str(0.5) + \", \"\r\n",
    "    ax = df_0[['Susceptible', 'Exposed', 'Infected', 'Recovered', 'actions']].plot.line(subplots=True, figsize = (5,5))\r\n",
    "    ax[0].set_ylim([94000, 100000])\r\n",
    "    ax[1].set_ylim([0, 500])\r\n",
    "    ax[2].set_ylim([0, 1500])\r\n",
    "    ax[2].axhline(y=500)\r\n",
    "    ax[3].set_ylim([0, 5000])\r\n",
    "    ax[4].set_ylim([-0.1, 2.1])\r\n",
    "    plt.savefig(main_title+\"Scenario - \" + scenario + \" - states.png\")\r\n",
    "    # plt.show()\r\n",
    "    plt.close()\r\n",
    "\r\n",
    "    index = pd.date_range(\"2020-05-15 00:00:00\", \"2020-11-05 23:55:00\", freq=\"5min\")\r\n",
    "    main_title = \"weight = \" + str(0.5) + \", \"\r\n",
    "    ax = df_0[['PublicHealthCost', 'EconomicCost', 'TotalCost', 'CumulativeCost']].plot.line(subplots=True, figsize = (5,5))\r\n",
    "    # ax[0].set_ylim([94000, 100000])\r\n",
    "    # ax[1].set_ylim([0, 500])\r\n",
    "    ax[2].set_ylim([-0.1, 7.5])\r\n",
    "    # ax[3].set_ylim([-0.1, 2.1])\r\n",
    "    plt.savefig(main_title+\"Scenario - \" + scenario + \" - costs.png\")\r\n",
    "    # plt.show()\r\n",
    "    plt.close()\r\n",
    "    return TotalWeeklyCumulativeCosts[0]"
   ],
   "outputs": [],
   "metadata": {}
  },
  {
   "cell_type": "code",
   "execution_count": 11,
   "source": [
    "path_0 = r\"C:\\Users\\guanxy\\Documents\\GitHub\\sb3-seir2\\test_name=test_yang_4\\w=0.5\\seed=2345\\w=0\\hcs=581.0\\rpw=0.02\\hbr=0.005\\mhc=10.0\\lr=0.0002\\clip=0.1\\rl_algo=0\"\r\n",
    "path_1 = r\"C:\\Users\\guanxy\\Documents\\GitHub\\sb3-seir2\\test_name=test_yang_4\\w=0.5\\seed=2345\\w=1\\hcs=581.0\\rpw=0.02\\hbr=0.005\\mhc=10.0\\lr=0.0002\\clip=0.1\\rl_algo=0\"\r\n",
    "path_2 = r\"C:\\Users\\guanxy\\Documents\\GitHub\\sb3-seir2\\test_name=test_yang_4\\w=0.5\\seed=2345\\w=2\\hcs=581.0\\rpw=0.02\\hbr=0.005\\mhc=10.0\\lr=0.0002\\clip=0.1\\rl_algo=0\"\r\n",
    "plot_path(path_0), plot_path(path_1), plot_path(path_2)\r\n"
   ],
   "outputs": [
    {
     "output_type": "execute_result",
     "data": {
      "text/plain": [
       "(29.121437496466243, 51.55726335039822, 72.05752115001152)"
      ]
     },
     "metadata": {},
     "execution_count": 11
    }
   ],
   "metadata": {}
  },
  {
   "cell_type": "code",
   "execution_count": 11,
   "source": [
    "path = r\"C:\\Users\\kkris\\Documents\\GitHub\\sb3-seir2\\test_name=test_yang_4\\w=0.5\\seed=2345\\w=0\\hcs=581.0\\rpw=0.02\\hbr=0.005\\mhc=5.0\\lr=0.0002\\clip=0.1\\rl_algo=0\"\r\n",
    "idx = path.find(\"clip=\")\r\n",
    "path[idx+5:idx+8]"
   ],
   "outputs": [
    {
     "output_type": "execute_result",
     "data": {
      "text/plain": [
       "'0.1'"
      ]
     },
     "metadata": {},
     "execution_count": 11
    }
   ],
   "metadata": {}
  },
  {
   "cell_type": "code",
   "execution_count": 17,
   "source": [
    "idx = path.find(\"rpw=\")\r\n",
    "float(path[idx+4:idx+8])"
   ],
   "outputs": [
    {
     "output_type": "execute_result",
     "data": {
      "text/plain": [
       "0.02"
      ]
     },
     "metadata": {},
     "execution_count": 17
    }
   ],
   "metadata": {}
  },
  {
   "cell_type": "code",
   "execution_count": 40,
   "source": [
    "path_0.split(\"\\\\\")"
   ],
   "outputs": [
    {
     "output_type": "execute_result",
     "data": {
      "text/plain": [
       "['C:',\n",
       " 'Users',\n",
       " 'kkris',\n",
       " 'Documents',\n",
       " 'GitHub',\n",
       " 'sb3-seir2',\n",
       " 'test_name=test_yang_4',\n",
       " 'w=0.5',\n",
       " 'seed=2345',\n",
       " 'w=0',\n",
       " 'hcs=581.0',\n",
       " 'rpw=0.02',\n",
       " 'hbr=0.005',\n",
       " 'mhc=10.0',\n",
       " 'lr=0.0002',\n",
       " 'clip=0.1',\n",
       " 'rl_algo=0',\n",
       " 'sar.csv']"
      ]
     },
     "metadata": {},
     "execution_count": 40
    }
   ],
   "metadata": {}
  },
  {
   "cell_type": "code",
   "execution_count": null,
   "source": [],
   "outputs": [],
   "metadata": {}
  }
 ],
 "metadata": {
  "orig_nbformat": 4,
  "language_info": {
   "name": "python",
   "version": "3.8.3",
   "mimetype": "text/x-python",
   "codemirror_mode": {
    "name": "ipython",
    "version": 3
   },
   "pygments_lexer": "ipython3",
   "nbconvert_exporter": "python",
   "file_extension": ".py"
  },
  "kernelspec": {
   "name": "python3",
   "display_name": "Python 3.8.3 64-bit (conda)"
  },
  "interpreter": {
   "hash": "418862a617b25d04555e01744b1ca561a08113cdb9c269300104be8fce15787a"
  }
 },
 "nbformat": 4,
 "nbformat_minor": 2
}